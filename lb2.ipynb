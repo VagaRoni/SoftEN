from docx import Document

def docx_to_ipynb(docx_path, output_path):
    doc = Document(docx_path)
    nb = new_notebook()
    
    for para in doc.paragraphs:
        if para.text.strip():
            nb.cells.append(new_markdown_cell(para.text))
    
    with open(output_path, 'w', encoding='utf-8') as f:
        nbformat.write(nb, f)

docx_to_ipynb('Тема 1 Хакимов.docx', 'Тема_1_Хакимов.ipynb')
